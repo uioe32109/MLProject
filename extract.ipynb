{
 "metadata": {
  "language_info": {
   "codemirror_mode": {
    "name": "ipython",
    "version": 3
   },
   "file_extension": ".py",
   "mimetype": "text/x-python",
   "name": "python",
   "nbconvert_exporter": "python",
   "pygments_lexer": "ipython3",
   "version": "3.8.8-final"
  },
  "orig_nbformat": 2,
  "kernelspec": {
   "name": "python3",
   "display_name": "Python 3.8.8 64-bit",
   "metadata": {
    "interpreter": {
     "hash": "0b33a31064c3e339e938f188a8b132a18f76823165681a74011bc1bbec415cde"
    }
   }
  }
 },
 "nbformat": 4,
 "nbformat_minor": 2,
 "cells": [
  {
   "cell_type": "code",
   "execution_count": 1,
   "metadata": {},
   "outputs": [],
   "source": [
    "import pandas as pd\n",
    "import matplotlib.pyplot as plt\n",
    "import math\n",
    "from sklearn.feature_extraction.text import TfidfVectorizer\n",
    "from sklearn.cluster import KMeans\n",
    "from sklearn.metrics import adjusted_rand_score\n",
    "\n",
    "def drop_data(df):\n",
    "    df_5star = df.drop(columns=['style','unixReviewTime','vote','image'])\n",
    "    #df_5star = df_5star.drop(df[df.overall<5.0].index)\n",
    "    df_5star = df_5star.dropna()\n",
    "    df_5star = df_5star.drop_duplicates()\n",
    "    df_5star = df_5star.reset_index(drop=True)\n",
    "    return df_5star\n",
    "def drop_verified(df):\n",
    "    return_df = df.drop(df[df.verified==False].index)\n",
    "    return_df = return_df.reset_index(drop=True)\n",
    "    return return_df"
   ]
  },
  {
   "cell_type": "code",
   "execution_count": 2,
   "metadata": {},
   "outputs": [],
   "source": [
    "df_1 = pd.read_pickle('./dataframe/Phones_5.pkl')"
   ]
  },
  {
   "cell_type": "code",
   "execution_count": 3,
   "metadata": {},
   "outputs": [
    {
     "output_type": "execute_result",
     "data": {
      "text/plain": [
       "         overall  verified   reviewTime      reviewerID        asin  \\\n",
       "0            5.0      True   08 4, 2014  A24E3SXTC62LJI  7508492919   \n",
       "1            5.0      True  02 12, 2014  A269FLZCB4GIPV  7508492919   \n",
       "2            3.0      True   02 8, 2014   AB6CHQWHZW4TV  7508492919   \n",
       "3            2.0      True   02 4, 2014   A1M117A53LEI8  7508492919   \n",
       "4            4.0      True   02 3, 2014  A272DUT8M88ZS8  7508492919   \n",
       "...          ...       ...          ...             ...         ...   \n",
       "1123084      4.0      True  12 22, 2016  A1QWMCG1FNEP3A  B01HJC7N4C   \n",
       "1123085      5.0     False  07 15, 2016  A3FOBEJ9UVUTR3  B01HJC7N4C   \n",
       "1123086      5.0     False  07 14, 2016   AMUEAMKB4E33M  B01HJC7N4C   \n",
       "1123087      5.0     False  07 13, 2016  A2EV91MMOJ3IL4  B01HJC7N4C   \n",
       "1123088      5.0      True  05 11, 2017   ARKQD9Z1VPOV2  B01HJH9IN6   \n",
       "\n",
       "             reviewerName                                         reviewText  \\\n",
       "0        Claudia Valdivia  Looks even better in person. Be careful to not...   \n",
       "1             sarah ponce  When you don't want to spend a whole lot of ca...   \n",
       "2                     Kai  so the case came on time, i love the design. I...   \n",
       "3         Sharon Williams  DON'T CARE FOR IT.  GAVE IT AS A GIFT AND THEY...   \n",
       "4         Bella Rodriguez  I liked it because it was cute, but the studs ...   \n",
       "...                   ...                                                ...   \n",
       "1123084   Amazon Customer  Good for viewing. But doesn't have a button or...   \n",
       "1123085      David Harlow  I was given the Rockrok 3D VR Glasses Headset ...   \n",
       "1123086             Tom D  Super Fun! The RockRoc 3d vr headset is waaaay...   \n",
       "1123087          Timber12  Love it!\\n\\nI've had other VR glasses which al...   \n",
       "1123088         Malfacini                                          i love it   \n",
       "\n",
       "                                         summary  \n",
       "0            Can't stop won't stop looking at it  \n",
       "1                                              1  \n",
       "2                                       Its okay  \n",
       "3                                           CASE  \n",
       "4                                          Cute!  \n",
       "...                                          ...  \n",
       "1123084                                     Good  \n",
       "1123085                 THE FUTURE IS NOW!!!!!!!  \n",
       "1123086  Get more out of your smartphone .......  \n",
       "1123087                   Join the VR fun train!  \n",
       "1123088                               Five Stars  \n",
       "\n",
       "[1123089 rows x 8 columns]"
      ],
      "text/html": "<div>\n<style scoped>\n    .dataframe tbody tr th:only-of-type {\n        vertical-align: middle;\n    }\n\n    .dataframe tbody tr th {\n        vertical-align: top;\n    }\n\n    .dataframe thead th {\n        text-align: right;\n    }\n</style>\n<table border=\"1\" class=\"dataframe\">\n  <thead>\n    <tr style=\"text-align: right;\">\n      <th></th>\n      <th>overall</th>\n      <th>verified</th>\n      <th>reviewTime</th>\n      <th>reviewerID</th>\n      <th>asin</th>\n      <th>reviewerName</th>\n      <th>reviewText</th>\n      <th>summary</th>\n    </tr>\n  </thead>\n  <tbody>\n    <tr>\n      <th>0</th>\n      <td>5.0</td>\n      <td>True</td>\n      <td>08 4, 2014</td>\n      <td>A24E3SXTC62LJI</td>\n      <td>7508492919</td>\n      <td>Claudia Valdivia</td>\n      <td>Looks even better in person. Be careful to not...</td>\n      <td>Can't stop won't stop looking at it</td>\n    </tr>\n    <tr>\n      <th>1</th>\n      <td>5.0</td>\n      <td>True</td>\n      <td>02 12, 2014</td>\n      <td>A269FLZCB4GIPV</td>\n      <td>7508492919</td>\n      <td>sarah ponce</td>\n      <td>When you don't want to spend a whole lot of ca...</td>\n      <td>1</td>\n    </tr>\n    <tr>\n      <th>2</th>\n      <td>3.0</td>\n      <td>True</td>\n      <td>02 8, 2014</td>\n      <td>AB6CHQWHZW4TV</td>\n      <td>7508492919</td>\n      <td>Kai</td>\n      <td>so the case came on time, i love the design. I...</td>\n      <td>Its okay</td>\n    </tr>\n    <tr>\n      <th>3</th>\n      <td>2.0</td>\n      <td>True</td>\n      <td>02 4, 2014</td>\n      <td>A1M117A53LEI8</td>\n      <td>7508492919</td>\n      <td>Sharon Williams</td>\n      <td>DON'T CARE FOR IT.  GAVE IT AS A GIFT AND THEY...</td>\n      <td>CASE</td>\n    </tr>\n    <tr>\n      <th>4</th>\n      <td>4.0</td>\n      <td>True</td>\n      <td>02 3, 2014</td>\n      <td>A272DUT8M88ZS8</td>\n      <td>7508492919</td>\n      <td>Bella Rodriguez</td>\n      <td>I liked it because it was cute, but the studs ...</td>\n      <td>Cute!</td>\n    </tr>\n    <tr>\n      <th>...</th>\n      <td>...</td>\n      <td>...</td>\n      <td>...</td>\n      <td>...</td>\n      <td>...</td>\n      <td>...</td>\n      <td>...</td>\n      <td>...</td>\n    </tr>\n    <tr>\n      <th>1123084</th>\n      <td>4.0</td>\n      <td>True</td>\n      <td>12 22, 2016</td>\n      <td>A1QWMCG1FNEP3A</td>\n      <td>B01HJC7N4C</td>\n      <td>Amazon Customer</td>\n      <td>Good for viewing. But doesn't have a button or...</td>\n      <td>Good</td>\n    </tr>\n    <tr>\n      <th>1123085</th>\n      <td>5.0</td>\n      <td>False</td>\n      <td>07 15, 2016</td>\n      <td>A3FOBEJ9UVUTR3</td>\n      <td>B01HJC7N4C</td>\n      <td>David Harlow</td>\n      <td>I was given the Rockrok 3D VR Glasses Headset ...</td>\n      <td>THE FUTURE IS NOW!!!!!!!</td>\n    </tr>\n    <tr>\n      <th>1123086</th>\n      <td>5.0</td>\n      <td>False</td>\n      <td>07 14, 2016</td>\n      <td>AMUEAMKB4E33M</td>\n      <td>B01HJC7N4C</td>\n      <td>Tom D</td>\n      <td>Super Fun! The RockRoc 3d vr headset is waaaay...</td>\n      <td>Get more out of your smartphone .......</td>\n    </tr>\n    <tr>\n      <th>1123087</th>\n      <td>5.0</td>\n      <td>False</td>\n      <td>07 13, 2016</td>\n      <td>A2EV91MMOJ3IL4</td>\n      <td>B01HJC7N4C</td>\n      <td>Timber12</td>\n      <td>Love it!\\n\\nI've had other VR glasses which al...</td>\n      <td>Join the VR fun train!</td>\n    </tr>\n    <tr>\n      <th>1123088</th>\n      <td>5.0</td>\n      <td>True</td>\n      <td>05 11, 2017</td>\n      <td>ARKQD9Z1VPOV2</td>\n      <td>B01HJH9IN6</td>\n      <td>Malfacini</td>\n      <td>i love it</td>\n      <td>Five Stars</td>\n    </tr>\n  </tbody>\n</table>\n<p>1123089 rows × 8 columns</p>\n</div>"
     },
     "metadata": {},
     "execution_count": 3
    }
   ],
   "source": [
    "df_1 = drop_data(df_1)\n",
    "df_1"
   ]
  },
  {
   "cell_type": "code",
   "execution_count": 4,
   "metadata": {},
   "outputs": [],
   "source": [
    "# Function to get the specific rows based on the index list\n",
    "def collect_sample(index_list, df):\n",
    "    new_df = pd.DataFrame()\n",
    "    for i in index_list:\n",
    "        new_df=new_df.append(df.loc[i])\n",
    "    new_df = new_df.reset_index()\n",
    "    return new_df"
   ]
  },
  {
   "cell_type": "code",
   "execution_count": 5,
   "metadata": {},
   "outputs": [],
   "source": [
    "# Random Select X samples, the return result is a index list with the chosen indexes\n",
    "import random\n",
    "def random_index(df,X):\n",
    "    random.seed(0)\n",
    "    random_index = random.sample(range(0,len(df)),X)\n",
    "    return random_index"
   ]
  },
  {
   "cell_type": "code",
   "execution_count": 6,
   "metadata": {},
   "outputs": [
    {
     "output_type": "execute_result",
     "data": {
      "text/plain": [
       "       overall  verified   reviewTime      reviewerID        asin  \\\n",
       "0          5.0      True  09 19, 2015  A334NESAG7QXWY  B013BFBKIQ   \n",
       "1          5.0      True  02 26, 2016  A2NWTLELAHOQHQ  B017NE3L3I   \n",
       "2          4.0      True  11 28, 2017   AAQW4RZEJNDN8  B005ZD6WQS   \n",
       "3          5.0      True  04 18, 2016   A7HO43YW6ST1T  B00NFZN004   \n",
       "4          4.0      True   02 3, 2017   A2534VA71G4SU  B00JV6CJRG   \n",
       "...        ...       ...          ...             ...         ...   \n",
       "29995      5.0      True   05 7, 2015  A1N6V1PA42TF9R  B00GJ4XX14   \n",
       "29996      5.0      True  07 15, 2016  A20TN07VDAUTBS  B009P16FKY   \n",
       "29997      5.0      True  09 25, 2016  A1O4D5K0STI80W  B01GLC568G   \n",
       "29998      5.0      True  09 19, 2016   A2GL8ZFZKIJ8W  B00LVCPDNU   \n",
       "29999      5.0      True   04 2, 2016  A24Q931FMTMVPC  B00HSOUQXM   \n",
       "\n",
       "              reviewerName                                         reviewText  \\\n",
       "0            Ceasar Garcia  This is great I wish I can give 10 stars. I lo...   \n",
       "1                 Dbisn6x0  Great quality cords...my only gripe is that th...   \n",
       "2                    Leela                                   Met expectations   \n",
       "3                     John  Nice case. Very slim, so don't expect the same...   \n",
       "4      Raimondas Sadauskas                                               good   \n",
       "...                    ...                                                ...   \n",
       "29995             Yu, MIng                                          thank you   \n",
       "29996             Peepeeth                         Good price. Great product.   \n",
       "29997              Lisa O.  This is a very nice product.  It is durable an...   \n",
       "29998                 Bear                                      Nice cables !   \n",
       "29999                Raina  Exactly the tool i needed to switch out a card...   \n",
       "\n",
       "                                        summary  \n",
       "0      This is great I wish I can give 10 stars  \n",
       "1                                       Loooong  \n",
       "2                                    Four Stars  \n",
       "3                          Nice case. Very slim  \n",
       "4                                    Four Stars  \n",
       "...                                         ...  \n",
       "29995                                 thank you  \n",
       "29996                                Five Stars  \n",
       "29997         Very nice, but not what I needed.  \n",
       "29998                                     Great  \n",
       "29999             Great tool for a specific job  \n",
       "\n",
       "[30000 rows x 8 columns]"
      ],
      "text/html": "<div>\n<style scoped>\n    .dataframe tbody tr th:only-of-type {\n        vertical-align: middle;\n    }\n\n    .dataframe tbody tr th {\n        vertical-align: top;\n    }\n\n    .dataframe thead th {\n        text-align: right;\n    }\n</style>\n<table border=\"1\" class=\"dataframe\">\n  <thead>\n    <tr style=\"text-align: right;\">\n      <th></th>\n      <th>overall</th>\n      <th>verified</th>\n      <th>reviewTime</th>\n      <th>reviewerID</th>\n      <th>asin</th>\n      <th>reviewerName</th>\n      <th>reviewText</th>\n      <th>summary</th>\n    </tr>\n  </thead>\n  <tbody>\n    <tr>\n      <th>0</th>\n      <td>5.0</td>\n      <td>True</td>\n      <td>09 19, 2015</td>\n      <td>A334NESAG7QXWY</td>\n      <td>B013BFBKIQ</td>\n      <td>Ceasar Garcia</td>\n      <td>This is great I wish I can give 10 stars. I lo...</td>\n      <td>This is great I wish I can give 10 stars</td>\n    </tr>\n    <tr>\n      <th>1</th>\n      <td>5.0</td>\n      <td>True</td>\n      <td>02 26, 2016</td>\n      <td>A2NWTLELAHOQHQ</td>\n      <td>B017NE3L3I</td>\n      <td>Dbisn6x0</td>\n      <td>Great quality cords...my only gripe is that th...</td>\n      <td>Loooong</td>\n    </tr>\n    <tr>\n      <th>2</th>\n      <td>4.0</td>\n      <td>True</td>\n      <td>11 28, 2017</td>\n      <td>AAQW4RZEJNDN8</td>\n      <td>B005ZD6WQS</td>\n      <td>Leela</td>\n      <td>Met expectations</td>\n      <td>Four Stars</td>\n    </tr>\n    <tr>\n      <th>3</th>\n      <td>5.0</td>\n      <td>True</td>\n      <td>04 18, 2016</td>\n      <td>A7HO43YW6ST1T</td>\n      <td>B00NFZN004</td>\n      <td>John</td>\n      <td>Nice case. Very slim, so don't expect the same...</td>\n      <td>Nice case. Very slim</td>\n    </tr>\n    <tr>\n      <th>4</th>\n      <td>4.0</td>\n      <td>True</td>\n      <td>02 3, 2017</td>\n      <td>A2534VA71G4SU</td>\n      <td>B00JV6CJRG</td>\n      <td>Raimondas Sadauskas</td>\n      <td>good</td>\n      <td>Four Stars</td>\n    </tr>\n    <tr>\n      <th>...</th>\n      <td>...</td>\n      <td>...</td>\n      <td>...</td>\n      <td>...</td>\n      <td>...</td>\n      <td>...</td>\n      <td>...</td>\n      <td>...</td>\n    </tr>\n    <tr>\n      <th>29995</th>\n      <td>5.0</td>\n      <td>True</td>\n      <td>05 7, 2015</td>\n      <td>A1N6V1PA42TF9R</td>\n      <td>B00GJ4XX14</td>\n      <td>Yu, MIng</td>\n      <td>thank you</td>\n      <td>thank you</td>\n    </tr>\n    <tr>\n      <th>29996</th>\n      <td>5.0</td>\n      <td>True</td>\n      <td>07 15, 2016</td>\n      <td>A20TN07VDAUTBS</td>\n      <td>B009P16FKY</td>\n      <td>Peepeeth</td>\n      <td>Good price. Great product.</td>\n      <td>Five Stars</td>\n    </tr>\n    <tr>\n      <th>29997</th>\n      <td>5.0</td>\n      <td>True</td>\n      <td>09 25, 2016</td>\n      <td>A1O4D5K0STI80W</td>\n      <td>B01GLC568G</td>\n      <td>Lisa O.</td>\n      <td>This is a very nice product.  It is durable an...</td>\n      <td>Very nice, but not what I needed.</td>\n    </tr>\n    <tr>\n      <th>29998</th>\n      <td>5.0</td>\n      <td>True</td>\n      <td>09 19, 2016</td>\n      <td>A2GL8ZFZKIJ8W</td>\n      <td>B00LVCPDNU</td>\n      <td>Bear</td>\n      <td>Nice cables !</td>\n      <td>Great</td>\n    </tr>\n    <tr>\n      <th>29999</th>\n      <td>5.0</td>\n      <td>True</td>\n      <td>04 2, 2016</td>\n      <td>A24Q931FMTMVPC</td>\n      <td>B00HSOUQXM</td>\n      <td>Raina</td>\n      <td>Exactly the tool i needed to switch out a card...</td>\n      <td>Great tool for a specific job</td>\n    </tr>\n  </tbody>\n</table>\n<p>30000 rows × 8 columns</p>\n</div>"
     },
     "metadata": {},
     "execution_count": 6
    }
   ],
   "source": [
    "sample_index = random_index(df_1,30000)\n",
    "df_selected = df_1.iloc[sample_index]\n",
    "df_selected_1 = df_selected.reset_index(drop=True)\n",
    "df_selected_1"
   ]
  },
  {
   "cell_type": "code",
   "execution_count": null,
   "metadata": {},
   "outputs": [],
   "source": [
    "df_selected_1.to_pickle('./dataframe/Phones_Selected.pkl')"
   ]
  },
  {
   "cell_type": "code",
   "execution_count": 8,
   "metadata": {},
   "outputs": [],
   "source": [
    "df_5star = df_1[df_1['overall']==5]\n",
    "df_4star = df_1[df_1['overall']==4]\n",
    "df_3star = df_1[df_1['overall']==3]\n",
    "df_2star = df_1[df_1['overall']==2]\n",
    "df_1star = df_1[df_1['overall']==1]"
   ]
  },
  {
   "cell_type": "code",
   "execution_count": 12,
   "metadata": {},
   "outputs": [],
   "source": [
    "df_45 = df_5star.append(df_4star,ignore_index=True)\n",
    "# Data with 3 star, 4 star, and 5 star review\n",
    "df_345 = df_45.append(df_45,ignore_index=True)\n",
    "# Data with 1 star and 2 star review\n",
    "df_12 = df_2star.append(df_1star,ignore_index=True)"
   ]
  },
  {
   "cell_type": "code",
   "execution_count": 14,
   "metadata": {},
   "outputs": [
    {
     "output_type": "execute_result",
     "data": {
      "text/plain": [
       "       overall  verified   reviewTime      reviewerID        asin  \\\n",
       "0          1.0      True  12 12, 2016  A14FGNGLRF7HPN  B00QFHZURK   \n",
       "1          1.0      True  02 28, 2016  A1464S0U3Q9VS0  B00YR23W1G   \n",
       "2          2.0      True  04 10, 2013  A3CPQ7XPH9REWI  B00AK4JUA2   \n",
       "3          1.0      True  01 25, 2013   AO2SPAMMXYYNC  B0090DDUG4   \n",
       "4          1.0      True  04 14, 2016  A1JK4MGX20U8LF  B00MX7F8GO   \n",
       "...        ...       ...          ...             ...         ...   \n",
       "39995      5.0      True  10 26, 2015  A3F2CG8192P3NN  B013VRSRVW   \n",
       "39996      5.0      True  08 12, 2016  A34EW69S9SEU3E  B016BLQAK0   \n",
       "39997      5.0      True  11 28, 2016  A1KKNS2AYUM1I8  B00UBDI7EC   \n",
       "39998      4.0      True   03 5, 2005  A1N4P89OQJ0LN0  B000246XQE   \n",
       "39999      5.0      True  12 26, 2016  A1HJ9RH09HFMII  B01DIDMNA0   \n",
       "\n",
       "                reviewerName  \\\n",
       "0                      Scott   \n",
       "1            cutekittensmeow   \n",
       "2                      chema   \n",
       "3                 dilly-tree   \n",
       "4                    mark m.   \n",
       "...                      ...   \n",
       "39995  Barbara Dunn Johnston   \n",
       "39996           Born to Shop   \n",
       "39997                S. Kong   \n",
       "39998        William Reading   \n",
       "39999       Daron Prelesnick   \n",
       "\n",
       "                                              reviewText  \\\n",
       "0      Worked for ONE day and then the USB charging p...   \n",
       "1      I can't begin to express how awful this phone ...   \n",
       "2      screen protector is thick and you will have a ...   \n",
       "3      Its very deceiving amd does not have the prote...   \n",
       "4                                                   Uhh!   \n",
       "...                                                  ...   \n",
       "39995                                              Great   \n",
       "39996  Works great.  I put a check, a $20, DL, and a ...   \n",
       "39997  Product was exactly as it was described and it...   \n",
       "39998  I picked up this headset the other day and I'm...   \n",
       "39999  this is the only one that fits properly, this ...   \n",
       "\n",
       "                                                 summary  \n",
       "0                                   Very poor quality...  \n",
       "1      The only time that I was ever happy holding th...  \n",
       "2                                             warning!!!  \n",
       "3                                                 okay..  \n",
       "4                                               One Star  \n",
       "...                                                  ...  \n",
       "39995                                         Five Stars  \n",
       "39996                                         I like it.  \n",
       "39997                                         Five Stars  \n",
       "39998                                     Not bad at all  \n",
       "39999                           this one is like a glove  \n",
       "\n",
       "[40000 rows x 8 columns]"
      ],
      "text/html": "<div>\n<style scoped>\n    .dataframe tbody tr th:only-of-type {\n        vertical-align: middle;\n    }\n\n    .dataframe tbody tr th {\n        vertical-align: top;\n    }\n\n    .dataframe thead th {\n        text-align: right;\n    }\n</style>\n<table border=\"1\" class=\"dataframe\">\n  <thead>\n    <tr style=\"text-align: right;\">\n      <th></th>\n      <th>overall</th>\n      <th>verified</th>\n      <th>reviewTime</th>\n      <th>reviewerID</th>\n      <th>asin</th>\n      <th>reviewerName</th>\n      <th>reviewText</th>\n      <th>summary</th>\n    </tr>\n  </thead>\n  <tbody>\n    <tr>\n      <th>0</th>\n      <td>1.0</td>\n      <td>True</td>\n      <td>12 12, 2016</td>\n      <td>A14FGNGLRF7HPN</td>\n      <td>B00QFHZURK</td>\n      <td>Scott</td>\n      <td>Worked for ONE day and then the USB charging p...</td>\n      <td>Very poor quality...</td>\n    </tr>\n    <tr>\n      <th>1</th>\n      <td>1.0</td>\n      <td>True</td>\n      <td>02 28, 2016</td>\n      <td>A1464S0U3Q9VS0</td>\n      <td>B00YR23W1G</td>\n      <td>cutekittensmeow</td>\n      <td>I can't begin to express how awful this phone ...</td>\n      <td>The only time that I was ever happy holding th...</td>\n    </tr>\n    <tr>\n      <th>2</th>\n      <td>2.0</td>\n      <td>True</td>\n      <td>04 10, 2013</td>\n      <td>A3CPQ7XPH9REWI</td>\n      <td>B00AK4JUA2</td>\n      <td>chema</td>\n      <td>screen protector is thick and you will have a ...</td>\n      <td>warning!!!</td>\n    </tr>\n    <tr>\n      <th>3</th>\n      <td>1.0</td>\n      <td>True</td>\n      <td>01 25, 2013</td>\n      <td>AO2SPAMMXYYNC</td>\n      <td>B0090DDUG4</td>\n      <td>dilly-tree</td>\n      <td>Its very deceiving amd does not have the prote...</td>\n      <td>okay..</td>\n    </tr>\n    <tr>\n      <th>4</th>\n      <td>1.0</td>\n      <td>True</td>\n      <td>04 14, 2016</td>\n      <td>A1JK4MGX20U8LF</td>\n      <td>B00MX7F8GO</td>\n      <td>mark m.</td>\n      <td>Uhh!</td>\n      <td>One Star</td>\n    </tr>\n    <tr>\n      <th>...</th>\n      <td>...</td>\n      <td>...</td>\n      <td>...</td>\n      <td>...</td>\n      <td>...</td>\n      <td>...</td>\n      <td>...</td>\n      <td>...</td>\n    </tr>\n    <tr>\n      <th>39995</th>\n      <td>5.0</td>\n      <td>True</td>\n      <td>10 26, 2015</td>\n      <td>A3F2CG8192P3NN</td>\n      <td>B013VRSRVW</td>\n      <td>Barbara Dunn Johnston</td>\n      <td>Great</td>\n      <td>Five Stars</td>\n    </tr>\n    <tr>\n      <th>39996</th>\n      <td>5.0</td>\n      <td>True</td>\n      <td>08 12, 2016</td>\n      <td>A34EW69S9SEU3E</td>\n      <td>B016BLQAK0</td>\n      <td>Born to Shop</td>\n      <td>Works great.  I put a check, a $20, DL, and a ...</td>\n      <td>I like it.</td>\n    </tr>\n    <tr>\n      <th>39997</th>\n      <td>5.0</td>\n      <td>True</td>\n      <td>11 28, 2016</td>\n      <td>A1KKNS2AYUM1I8</td>\n      <td>B00UBDI7EC</td>\n      <td>S. Kong</td>\n      <td>Product was exactly as it was described and it...</td>\n      <td>Five Stars</td>\n    </tr>\n    <tr>\n      <th>39998</th>\n      <td>4.0</td>\n      <td>True</td>\n      <td>03 5, 2005</td>\n      <td>A1N4P89OQJ0LN0</td>\n      <td>B000246XQE</td>\n      <td>William Reading</td>\n      <td>I picked up this headset the other day and I'm...</td>\n      <td>Not bad at all</td>\n    </tr>\n    <tr>\n      <th>39999</th>\n      <td>5.0</td>\n      <td>True</td>\n      <td>12 26, 2016</td>\n      <td>A1HJ9RH09HFMII</td>\n      <td>B01DIDMNA0</td>\n      <td>Daron Prelesnick</td>\n      <td>this is the only one that fits properly, this ...</td>\n      <td>this one is like a glove</td>\n    </tr>\n  </tbody>\n</table>\n<p>40000 rows × 8 columns</p>\n</div>"
     },
     "metadata": {},
     "execution_count": 14
    }
   ],
   "source": [
    "# Randomly pick 20000 samples from 3,4,5 star reviews and 20000 samples from 1,2 star reviews\n",
    "index_345 = random_index(df_345,20000)\n",
    "index_12 = random_index(df_12,20000)\n",
    "df_12_selected = df_12.iloc[index_12]\n",
    "df_345_selected = df_345.iloc[index_345]\n",
    "df_selected_2 = df_12_selected.append(df_345_selected,ignore_index=True)\n",
    "df_selected_2"
   ]
  },
  {
   "cell_type": "code",
   "execution_count": 17,
   "metadata": {},
   "outputs": [],
   "source": [
    "df_selected_2.to_pickle('./dataframe/Phones_Selected_2.pkl')"
   ]
  },
  {
   "cell_type": "code",
   "execution_count": null,
   "metadata": {},
   "outputs": [],
   "source": []
  }
 ]
}